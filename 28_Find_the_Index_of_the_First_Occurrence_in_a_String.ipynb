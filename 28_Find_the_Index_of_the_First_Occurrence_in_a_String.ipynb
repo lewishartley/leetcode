{
 "cells": [
  {
   "cell_type": "code",
   "execution_count": 40,
   "metadata": {},
   "outputs": [
    {
     "data": {
      "text/plain": [
       "2"
      ]
     },
     "execution_count": 40,
     "metadata": {},
     "output_type": "execute_result"
    }
   ],
   "source": [
    "haystack = \"hello\"\n",
    "needle = \"ll\"\n",
    "\n",
    "class Solution(object):\n",
    "    def strStr(self, haystack, needle):\n",
    "        if needle in haystack:\n",
    "            for i in range(len(haystack)):\n",
    "                if haystack[i:i+len(needle)] == needle:\n",
    "                    return i\n",
    "        else:\n",
    "            return -1\n",
    "        "
   ]
  }
 ],
 "metadata": {
  "kernelspec": {
   "display_name": "base",
   "language": "python",
   "name": "python3"
  },
  "language_info": {
   "codemirror_mode": {
    "name": "ipython",
    "version": 3
   },
   "file_extension": ".py",
   "mimetype": "text/x-python",
   "name": "python",
   "nbconvert_exporter": "python",
   "pygments_lexer": "ipython3",
   "version": "3.11.4"
  }
 },
 "nbformat": 4,
 "nbformat_minor": 2
}
