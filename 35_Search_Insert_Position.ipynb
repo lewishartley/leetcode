{
 "cells": [
  {
   "cell_type": "code",
   "execution_count": 90,
   "metadata": {},
   "outputs": [
    {
     "data": {
      "text/plain": [
       "0"
      ]
     },
     "execution_count": 90,
     "metadata": {},
     "output_type": "execute_result"
    }
   ],
   "source": [
    "class Solution(object):\n",
    "    def searchInsert(self, nums, target):\n",
    "        if target in nums:\n",
    "            for i in range(len(nums)):\n",
    "                if nums[i]==target:\n",
    "                    return i  \n",
    "        else:\n",
    "            for i in range(len(nums)):\n",
    "                if nums[i] > target:\n",
    "                    return i\n",
    "                elif i < (len(nums)-1):\n",
    "                    if nums[i] < target and nums[i+1] > target:\n",
    "                        return i+1\n",
    "                    else:\n",
    "                        continue\n",
    "                else:\n",
    "                    return len(nums)"
   ]
  }
 ],
 "metadata": {
  "kernelspec": {
   "display_name": "base",
   "language": "python",
   "name": "python3"
  },
  "language_info": {
   "codemirror_mode": {
    "name": "ipython",
    "version": 3
   },
   "file_extension": ".py",
   "mimetype": "text/x-python",
   "name": "python",
   "nbconvert_exporter": "python",
   "pygments_lexer": "ipython3",
   "version": "3.11.4"
  }
 },
 "nbformat": 4,
 "nbformat_minor": 2
}
